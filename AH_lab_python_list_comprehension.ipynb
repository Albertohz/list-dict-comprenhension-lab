{
  "cells": [
    {
      "cell_type": "markdown",
      "id": "25d7736c-ba17-4aff-b6bb-66eba20fbf4e",
      "metadata": {
        "id": "25d7736c-ba17-4aff-b6bb-66eba20fbf4e"
      },
      "source": [
        "# Lab | List, Dict and Set Comprehension"
      ]
    },
    {
      "cell_type": "markdown",
      "id": "7dd3cbde-675a-4b81-92c3-f728846dbe06",
      "metadata": {
        "id": "7dd3cbde-675a-4b81-92c3-f728846dbe06"
      },
      "source": [
        "## Exercise: Managing Customer Orders Optimized with Comprehension"
      ]
    },
    {
      "cell_type": "markdown",
      "id": "5d500160-2fb7-4777-b5e4-09d45ebaf328",
      "metadata": {
        "id": "5d500160-2fb7-4777-b5e4-09d45ebaf328"
      },
      "source": [
        "In the previous exercise, you developed a program to manage customer orders and inventory. Now, let's take it a step further and incorporate comprehension into your code.\n",
        "\n",
        "Follow the steps below to complete the exercise:\n",
        "\n",
        "1. Review your code from the previous exercise and identify areas where you can apply comprehension to simplify and streamline your code.\n",
        "\n",
        "    - *Hint: Apply it to initialize inventory, updating the inventory and printing the updated inventory.*\n",
        "    \n",
        "    - For example, in initializing the inventory, we could have:\n",
        "    \n",
        "        ```python\n",
        "        def initialize_inventory(products):\n",
        "            inventory = {product: int(input(f\"Enter the quantity of {product}s available: \")) for product in products}\n",
        "            return inventory\n",
        "\n",
        "        ```\n",
        "<br>\n",
        "    \n",
        "    \n",
        "2. Modify the function get_customer_orders so it prompts the user to enter the number of customer orders and gathers the product names using a loop and user input. Use comprehension.\n",
        "\n",
        "3. Add a new function to calculate the total price of the customer order. For each product in customer_orders, prompt the user to enter the price of that product. Use comprehension to calculate the total price. Note: assume that the user can only have 1 unit of each product.\n",
        "\n",
        "4. Modify the update_inventory function to remove the product from the inventory if its quantity becomes zero after fulfilling the customer orders. Use comprehension to filter out the products with a quantity of zero from the inventory.\n",
        "\n",
        "5. Print the total price of the customer order.\n",
        "\n",
        "Your code should produce output similar to the following:\n",
        "\n",
        "```python\n",
        "Enter the quantity of t-shirts available:  5\n",
        "Enter the quantity of mugs available:  4\n",
        "Enter the quantity of hats available:  3\n",
        "Enter the quantity of books available:  2\n",
        "Enter the quantity of keychains available:  1\n",
        "Enter the number of customer orders:  2\n",
        "Enter the name of a product that a customer wants to order:  hat\n",
        "Enter the name of a product that a customer wants to order:  keychain\n",
        "\n",
        "Order Statistics:\n",
        "Total Products Ordered: 2\n",
        "Percentage of Unique Products Ordered: 40.0\n",
        "\n",
        "Updated Inventory:\n",
        "t-shirt: 5\n",
        "mug: 4\n",
        "hat: 2\n",
        "book: 2\n",
        "Enter the price of keychain:  5\n",
        "Enter the price of hat:  10\n",
        "Total Price: 15.0\n",
        "\n",
        "```\n"
      ]
    },
    {
      "cell_type": "markdown",
      "source": [],
      "metadata": {
        "id": "1mLGKoypzsD3"
      },
      "id": "1mLGKoypzsD3"
    },
    {
      "cell_type": "markdown",
      "source": [
        "1. In the previous exercise, you developed a program to manage customer orders and inventory. Now, let's take it a step further and incorporate comprehension into your code.\n",
        "\n",
        "Follow the steps below to complete the exercise:\n",
        "\n",
        "Review your code from the previous exercise and identify areas where you can apply comprehension to simplify and streamline your code.\n",
        "\n",
        "Hint: Apply it to initialize inventory, updating the inventory and printing the updated inventory.\n",
        "\n",
        "For example, in initializing the inventory, we could have:"
      ],
      "metadata": {
        "id": "lhUDCg0Tzs2U"
      },
      "id": "lhUDCg0Tzs2U"
    },
    {
      "cell_type": "code",
      "source": [
        "#example\n",
        "def initialize_inventory(products):\n",
        "      inventory = {product: int(input(f\"Enter the quantity of {product}s available: \")) for product in products}\n",
        "      return inventory"
      ],
      "metadata": {
        "id": "rVZlbF3uzscD"
      },
      "id": "rVZlbF3uzscD",
      "execution_count": null,
      "outputs": []
    },
    {
      "cell_type": "code",
      "source": [
        "#Initializing Inventory\n",
        "\n",
        "def initialize_inventory(products):\n",
        "    inventory = {product: int(input(f\"Enter the quantity of {product}s available: \")) for product in products}\n",
        "    return inventory"
      ],
      "metadata": {
        "id": "hlNrJ1KJzx1d"
      },
      "id": "hlNrJ1KJzx1d",
      "execution_count": 1,
      "outputs": []
    },
    {
      "cell_type": "code",
      "source": [
        "# Updating inventory\n",
        "def update_inventory(inventory, orders):\n",
        "    return {product: inventory[product] - 1 for product in orders}"
      ],
      "metadata": {
        "id": "LMj0i7N9z1az"
      },
      "id": "LMj0i7N9z1az",
      "execution_count": 2,
      "outputs": []
    },
    {
      "cell_type": "code",
      "source": [
        "# Printing Updated Inventory:\n",
        "def print_inventory(inventory):\n",
        "    for product, quantity in inventory.items():\n",
        "        print(f\"{product}: {quantity}\")"
      ],
      "metadata": {
        "id": "CzSZL0Pxz3Ko"
      },
      "id": "CzSZL0Pxz3Ko",
      "execution_count": 3,
      "outputs": []
    },
    {
      "cell_type": "code",
      "source": [
        "#Full code below\n",
        "\n",
        "products = [\"t-shirt\", \"mug\", \"hat\", \"book\", \"keychain\"]\n",
        "\n",
        "customer_orders = set()\n",
        "\n",
        "def new_product_name():\n",
        "    product_required = input(\"Please enter the product you would like to order:\" )\n",
        "    return product_required\n",
        "\n",
        "def validate_product(product):\n",
        "    if product in products:\n",
        "        return True\n",
        "    else:\n",
        "       print(f\"{product} is not in the list of available products\")\n",
        "       return False\n",
        "\n",
        "def add_another_product():\n",
        "    another_product = input(\"Would you like to add another product? (yes/no):\").lower()\n",
        "    if another_product == \"yes\":\n",
        "        return True\n",
        "    else:\n",
        "        print(\"your order is ready to be processed: \")\n",
        "        return False\n",
        "\n",
        "# Initialize Inventory\n",
        "inventory = {product: int(input(f\"Enter the quantity of {product}s available: \")) for product in products}\n",
        "\n",
        "add_products = True\n",
        "while add_products:\n",
        "    x = new_product_name()\n",
        "    if validate_product(x):\n",
        "        customer_orders.add(x)\n",
        "        # Update Inventory\n",
        "        inventory = {product: inventory[product] - 1 for product in customer_orders}\n",
        "    if not add_another_product():\n",
        "        add_products = False\n",
        "\n",
        "print_inventory(inventory)\n",
        "print(customer_orders)"
      ],
      "metadata": {
        "colab": {
          "base_uri": "https://localhost:8080/"
        },
        "id": "U1B4l4pxz4TV",
        "outputId": "83357b93-6cb7-44f3-eb9e-fa755afcaf47"
      },
      "id": "U1B4l4pxz4TV",
      "execution_count": 4,
      "outputs": [
        {
          "output_type": "stream",
          "name": "stdout",
          "text": [
            "Enter the quantity of t-shirts available: 12\n",
            "Enter the quantity of mugs available: 12\n",
            "Enter the quantity of hats available: 23\n",
            "Enter the quantity of books available: 39\n",
            "Enter the quantity of keychains available: 50\n",
            "Please enter the product you would like to order:mugs\n",
            "mugs is not in the list of available products\n",
            "Would you like to add another product? (yes/no):yes\n",
            "Please enter the product you would like to order:hats\n",
            "hats is not in the list of available products\n",
            "Would you like to add another product? (yes/no):no\n",
            "your order is ready to be processed: \n",
            "t-shirt: 12\n",
            "mug: 12\n",
            "hat: 23\n",
            "book: 39\n",
            "keychain: 50\n",
            "set()\n"
          ]
        }
      ]
    },
    {
      "cell_type": "markdown",
      "source": [
        "2. Modify the function get_customer_orders so it prompts the user to enter the number of customer orders and gathers the product names using a loop and user input. Use comprehension."
      ],
      "metadata": {
        "id": "qr2PCS-f0DiT"
      },
      "id": "qr2PCS-f0DiT"
    },
    {
      "cell_type": "code",
      "source": [
        "def get_customer_orders(products):\n",
        "    num_orders = int(input(\"Enter the number of customer orders: \"))\n",
        "    orders = [input(f\"Enter product {i + 1} name: \") for i in range(num_orders)]\n",
        "    customer_orders = set(orders) # this is a way to remove duplicates (error I made at the beginning)\n",
        "    customer_orders = {product for product in customer_orders if product in products} # with tthis I validate each product (iterating)\n",
        "    return customer_orders\n",
        "# we will call the function like this: customer_orders = get_customer_orders(products)"
      ],
      "metadata": {
        "id": "dHq9HufL0CYz"
      },
      "id": "dHq9HufL0CYz",
      "execution_count": 5,
      "outputs": []
    },
    {
      "cell_type": "markdown",
      "source": [
        "3. Add a new function to calculate the total price of the customer order. For each product in customer_orders, prompt the user to enter the price of that product. Use comprehension to calculate the total price. Note: assume that the user can only have 1 unit of each product"
      ],
      "metadata": {
        "id": "TDKIkxeU0Hbs"
      },
      "id": "TDKIkxeU0Hbs"
    },
    {
      "cell_type": "code",
      "source": [
        "def calculate_total_price(customer_orders):\n",
        "    product_prices = {product: float(input(f\"Enter the price of {product}: \")) for product in customer_orders} # I use dictionary comprehension to retrieve product prices\n",
        "    total_price = sum(product_prices[product] for product in customer_orders) # I calculate the total price using a sum comprehension\n",
        "    return total_price"
      ],
      "metadata": {
        "id": "yXiJdd_C0HJh"
      },
      "id": "yXiJdd_C0HJh",
      "execution_count": 6,
      "outputs": []
    },
    {
      "cell_type": "markdown",
      "source": [
        "4. Modify the update_inventory function to remove the product from the inventory if its quantity becomes zero after fulfilling the customer orders. Use comprehension to filter out the products with a quantity of zero from the inventory."
      ],
      "metadata": {
        "id": "Db1t3O7G0LCV"
      },
      "id": "Db1t3O7G0LCV"
    },
    {
      "cell_type": "code",
      "source": [
        "def update_inventory(inventory, orders):\n",
        "    # Update the inventory\n",
        "    inventory = {product: inventory[product] - 1 for product in orders}\n",
        "    # Now I use a dictionary comprehension to filter out products with quantity > 0\n",
        "    updated_inventory = {product: quantity for product, quantity in inventory.items() if quantity > 0}\n",
        "    return updated_inventory\n"
      ],
      "metadata": {
        "id": "hEZIXDWO0MPW"
      },
      "id": "hEZIXDWO0MPW",
      "execution_count": 7,
      "outputs": []
    },
    {
      "cell_type": "markdown",
      "source": [
        "5. Print the total price of the customer order.\n",
        "Your code should produce output similar to the following:\n",
        "\n",
        "`python Enter the quantity of t-shirts available: 5 Enter the quantity of mugs available: 4 Enter the quantity of hats available: 3 Enter the quantity of books available: 2 Enter the quantity of keychains available: 1 Enter the number of customer orders: 2 Enter the name of a product that a customer wants to order: hat Enter the name of a product that a customer wants to order: keychain\n",
        "\n",
        "Order Statistics: Total Products Ordered: 2 Percentage of Unique Products Ordered: 40.0\n",
        "\n",
        "Updated Inventory: t-shirt: 5 mug: 4 hat: 2 book: 2 Enter the price of keychain: 5 Enter the price of hat: 10 Total Price: 15.0"
      ],
      "metadata": {
        "id": "zk6by4yn0NU2"
      },
      "id": "zk6by4yn0NU2"
    },
    {
      "cell_type": "code",
      "source": [
        "def get_customer_orders(products):\n",
        "    # Initialize an empty set to store the orders\n",
        "    customer_orders = set()\n",
        "\n",
        "    while True:\n",
        "        product_name = input(\"Enter the name of a product that a customer wants to order (or 'done' to finish): \")\n",
        "\n",
        "        if product_name == 'done':\n",
        "            break  # Exit the loop when the user is done\n",
        "\n",
        "        if product_name in products:\n",
        "            customer_orders.add(product_name)\n",
        "        else:\n",
        "            print(f\"{product_name} is not in the list of available products\")\n",
        "\n",
        "    return customer_orders\n",
        "\n",
        "def calculate_total_price(customer_orders):\n",
        "    # Use a dictionary comprehension to gather product prices\n",
        "    product_prices = {product: float(input(f\"Enter the price of {product}: \")) for product in customer_orders}\n",
        "\n",
        "    # Calculate the total price using a sum comprehension\n",
        "    total_price = sum(product_prices[product] for product in customer_orders)\n",
        "\n",
        "    return total_price\n",
        "\n",
        "def print_order_statistics(customer_orders, products):\n",
        "    total_products_ordered = len(customer_orders)\n",
        "    percentage_unique_products = (total_products_ordered / len(products)) * 100\n",
        "\n",
        "    print(\"\\nOrder Statistics:\")\n",
        "    print(f\"Total Products Ordered: {total_products_ordered}\")\n",
        "    print(f\"Percentage of Unique Products Ordered: {percentage_unique_products:.1f}%\")\n",
        "\n",
        "def update_inventory(inventory, orders):\n",
        "    # Update the inventory\n",
        "    inventory = {product: inventory[product] - 1 for product in orders}\n",
        "\n",
        "    # Use a dictionary comprehension to filter out products with quantity > 0\n",
        "    updated_inventory = {product: quantity for product, quantity in inventory.items() if quantity > 0}\n",
        "\n",
        "    return updated_inventory\n",
        "\n",
        "products = [\"t-shirt\", \"mug\", \"hat\", \"book\", \"keychain\"]\n",
        "\n",
        "# Initialize Inventory\n",
        "inventory = {product: int(input(f\"Enter the quantity of {product}s available: \")) for product in products}\n",
        "\n",
        "customer_orders = get_customer_orders(products)\n",
        "\n",
        "# Update Inventory\n",
        "inventory = update_inventory(inventory, customer_orders)\n",
        "\n",
        "# Print Order Statistics\n",
        "print_order_statistics(customer_orders, products)\n",
        "\n",
        "# Calculate Total Price\n",
        "total_price = calculate_total_price(customer_orders)\n",
        "\n",
        "# Print Updated Inventory\n",
        "print(\"\\nUpdated Inventory:\")\n",
        "for product, quantity in inventory.items():\n",
        "    print(f\"{product}: {quantity}\")\n",
        "\n",
        "print(f\"Total Price: {total_price:.1f}\")\n"
      ],
      "metadata": {
        "colab": {
          "base_uri": "https://localhost:8080/",
          "height": 470
        },
        "id": "P3ir2zFN0Ryc",
        "outputId": "13341248-14a9-4536-f54d-3e74ce0c1670"
      },
      "id": "P3ir2zFN0Ryc",
      "execution_count": 8,
      "outputs": [
        {
          "name": "stdout",
          "output_type": "stream",
          "text": [
            "Enter the quantity of t-shirts available: 20\n",
            "Enter the quantity of mugs available: 12\n",
            "Enter the quantity of hats available: 32\n",
            "Enter the quantity of books available: \n"
          ]
        },
        {
          "output_type": "error",
          "ename": "ValueError",
          "evalue": "ignored",
          "traceback": [
            "\u001b[0;31m---------------------------------------------------------------------------\u001b[0m",
            "\u001b[0;31mValueError\u001b[0m                                Traceback (most recent call last)",
            "\u001b[0;32m<ipython-input-8-92c436fd46d8>\u001b[0m in \u001b[0;36m<cell line: 47>\u001b[0;34m()\u001b[0m\n\u001b[1;32m     45\u001b[0m \u001b[0;34m\u001b[0m\u001b[0m\n\u001b[1;32m     46\u001b[0m \u001b[0;31m# Initialize Inventory\u001b[0m\u001b[0;34m\u001b[0m\u001b[0;34m\u001b[0m\u001b[0m\n\u001b[0;32m---> 47\u001b[0;31m \u001b[0minventory\u001b[0m \u001b[0;34m=\u001b[0m \u001b[0;34m{\u001b[0m\u001b[0mproduct\u001b[0m\u001b[0;34m:\u001b[0m \u001b[0mint\u001b[0m\u001b[0;34m(\u001b[0m\u001b[0minput\u001b[0m\u001b[0;34m(\u001b[0m\u001b[0;34mf\"Enter the quantity of {product}s available: \"\u001b[0m\u001b[0;34m)\u001b[0m\u001b[0;34m)\u001b[0m \u001b[0;32mfor\u001b[0m \u001b[0mproduct\u001b[0m \u001b[0;32min\u001b[0m \u001b[0mproducts\u001b[0m\u001b[0;34m}\u001b[0m\u001b[0;34m\u001b[0m\u001b[0;34m\u001b[0m\u001b[0m\n\u001b[0m\u001b[1;32m     48\u001b[0m \u001b[0;34m\u001b[0m\u001b[0m\n\u001b[1;32m     49\u001b[0m \u001b[0mcustomer_orders\u001b[0m \u001b[0;34m=\u001b[0m \u001b[0mget_customer_orders\u001b[0m\u001b[0;34m(\u001b[0m\u001b[0mproducts\u001b[0m\u001b[0;34m)\u001b[0m\u001b[0;34m\u001b[0m\u001b[0;34m\u001b[0m\u001b[0m\n",
            "\u001b[0;32m<ipython-input-8-92c436fd46d8>\u001b[0m in \u001b[0;36m<dictcomp>\u001b[0;34m(.0)\u001b[0m\n\u001b[1;32m     45\u001b[0m \u001b[0;34m\u001b[0m\u001b[0m\n\u001b[1;32m     46\u001b[0m \u001b[0;31m# Initialize Inventory\u001b[0m\u001b[0;34m\u001b[0m\u001b[0;34m\u001b[0m\u001b[0m\n\u001b[0;32m---> 47\u001b[0;31m \u001b[0minventory\u001b[0m \u001b[0;34m=\u001b[0m \u001b[0;34m{\u001b[0m\u001b[0mproduct\u001b[0m\u001b[0;34m:\u001b[0m \u001b[0mint\u001b[0m\u001b[0;34m(\u001b[0m\u001b[0minput\u001b[0m\u001b[0;34m(\u001b[0m\u001b[0;34mf\"Enter the quantity of {product}s available: \"\u001b[0m\u001b[0;34m)\u001b[0m\u001b[0;34m)\u001b[0m \u001b[0;32mfor\u001b[0m \u001b[0mproduct\u001b[0m \u001b[0;32min\u001b[0m \u001b[0mproducts\u001b[0m\u001b[0;34m}\u001b[0m\u001b[0;34m\u001b[0m\u001b[0;34m\u001b[0m\u001b[0m\n\u001b[0m\u001b[1;32m     48\u001b[0m \u001b[0;34m\u001b[0m\u001b[0m\n\u001b[1;32m     49\u001b[0m \u001b[0mcustomer_orders\u001b[0m \u001b[0;34m=\u001b[0m \u001b[0mget_customer_orders\u001b[0m\u001b[0;34m(\u001b[0m\u001b[0mproducts\u001b[0m\u001b[0;34m)\u001b[0m\u001b[0;34m\u001b[0m\u001b[0;34m\u001b[0m\u001b[0m\n",
            "\u001b[0;31mValueError\u001b[0m: invalid literal for int() with base 10: ''"
          ]
        }
      ]
    }
  ],
  "metadata": {
    "kernelspec": {
      "display_name": "Python 3 (ipykernel)",
      "language": "python",
      "name": "python3"
    },
    "language_info": {
      "codemirror_mode": {
        "name": "ipython",
        "version": 3
      },
      "file_extension": ".py",
      "mimetype": "text/x-python",
      "name": "python",
      "nbconvert_exporter": "python",
      "pygments_lexer": "ipython3",
      "version": "3.9.13"
    },
    "colab": {
      "provenance": []
    }
  },
  "nbformat": 4,
  "nbformat_minor": 5
}
